{
 "cells": [
  {
   "cell_type": "markdown",
   "id": "55f41a73",
   "metadata": {},
   "source": [
    "#### Sreelal H"
   ]
  },
  {
   "cell_type": "markdown",
   "id": "muslim-carbon",
   "metadata": {},
   "source": [
    "# Programming challenges for section 2 "
   ]
  },
  {
   "cell_type": "markdown",
   "id": "premier-front",
   "metadata": {},
   "source": [
    "### Program 20- Advice please "
   ]
  },
  {
   "cell_type": "code",
   "execution_count": 15,
   "id": "nonprofit-linux",
   "metadata": {},
   "outputs": [
    {
     "name": "stdout",
     "output_type": "stream",
     "text": [
      "Would you like some advice?\n",
      "n\n"
     ]
    }
   ],
   "source": [
    "print(\"Would you like some advice?\")\n",
    "q=input()\n",
    "if q==\"Y\":\n",
    "    print(\"Always know where your towel is.\")"
   ]
  },
  {
   "cell_type": "markdown",
   "id": "waiting-tuning",
   "metadata": {},
   "source": [
    "### Program 21 - Go winner "
   ]
  },
  {
   "cell_type": "code",
   "execution_count": 17,
   "id": "starting-process",
   "metadata": {},
   "outputs": [
    {
     "name": "stdout",
     "output_type": "stream",
     "text": [
      "What is Black's score?\n",
      "90.5\n",
      "What is white's score?\n",
      "84\n",
      "After 6.5 is added the score is:\n",
      "Black - 90.5\n",
      "White - 90.5\n",
      "The score is tied\n"
     ]
    }
   ],
   "source": [
    "print(\"What is Black's score?\")\n",
    "b=float(input())\n",
    "print(\"What is white's score?\")\n",
    "w=float(input())+6.5\n",
    "print(\"After 6.5 is added the score is:\")\n",
    "print(\"Black -\", b)\n",
    "print(\"White -\", w)\n",
    "if b>w:\n",
    "    print(\"Black is the winner.\")\n",
    "elif w>b:\n",
    "    print(\"White is the winner\")\n",
    "else:\n",
    "    print(\"The score is tied\")\n"
   ]
  },
  {
   "cell_type": "markdown",
   "id": "governing-robin",
   "metadata": {},
   "source": [
    "### Program 22 - Charity collection "
   ]
  },
  {
   "cell_type": "code",
   "execution_count": 18,
   "id": "everyday-spread",
   "metadata": {},
   "outputs": [
    {
     "name": "stdout",
     "output_type": "stream",
     "text": [
      "Please enter the first amount raised\n",
      "398\n",
      "Please enter the second amount raised\n",
      "193\n",
      "Please enter the third amount raised\n",
      "478\n",
      "A total of  1069 was raised.\n",
      "This will be doubled to 2138\n"
     ]
    }
   ],
   "source": [
    "print(\"Please enter the first amount raised\")\n",
    "f=int(input())\n",
    "print(\"Please enter the second amount raised\")\n",
    "s=int(input())\n",
    "print(\"Please enter the third amount raised\")\n",
    "t=int(input())\n",
    "T=f+s+t\n",
    "print(\"A total of \",T,\"was raised.\")\n",
    "if T>1000:\n",
    "    print(\"This will be doubled to\",2*T)\n",
    "    "
   ]
  },
  {
   "cell_type": "markdown",
   "id": "expected-sector",
   "metadata": {},
   "source": [
    "### Program 24- The most vowels "
   ]
  },
  {
   "cell_type": "code",
   "execution_count": 27,
   "id": "regional-japanese",
   "metadata": {},
   "outputs": [
    {
     "name": "stdout",
     "output_type": "stream",
     "text": [
      "Enter sentence 1\n",
      "You can't handle the truth!\n",
      "Enter sentence 2\n",
      "Houston, we have a problem.\n",
      "The percentage of vowels in sentence 1 is: 25.93\n",
      "The percentage of vowels in sentence 2 is: 33.33\n",
      "Sentence 1 has 7 vowels\n",
      "Sentence 2 has 9 vowels\n",
      "Sentence 2 has more vowels\n"
     ]
    }
   ],
   "source": [
    "print(\"Enter sentence 1\")\n",
    "s1=input().lower()\n",
    "print(\"Enter sentence 2\")\n",
    "s2=input().lower()\n",
    "a1=s1.count('a')\n",
    "e1=s1.count('e')\n",
    "i1=s1.count('i')\n",
    "o1=s1.count('o')\n",
    "u1=s1.count('u')\n",
    "\n",
    "a2=s2.count('a')\n",
    "e2=s2.count('e')\n",
    "i2=s2.count('i')\n",
    "o2=s2.count('o')\n",
    "u2=s2.count('u')\n",
    "\n",
    "t1=a1+e1+i1+o1+u1\n",
    "t2=a2+e2+i2+o2+u2\n",
    "\n",
    "bad_char=[\" \",\".\",\",\",\"?\",\"!\",\";\",\"'\",\";\"]\n",
    "for i in bad_char:\n",
    "    s11=s1.replace(i,\"\")\n",
    "    s22=s2.replace(i,\"\")\n",
    "\n",
    "l1=len(s11)\n",
    "l2=len(s22)\n",
    "\n",
    "p1=(t1/l1)*100\n",
    "p2=(t2/l2)*100\n",
    "\n",
    "print(\"The percentage of vowels in sentence 1 is:\", round(p1,2))\n",
    "print(\"The percentage of vowels in sentence 2 is:\", round(p2,2))\n",
    "\n",
    "print(\"Sentence 1 has\", t1, \"vowels\")\n",
    "print(\"Sentence 2 has\", t2, \"vowels\")\n",
    "\n",
    "if t1>t2:\n",
    "    print(\"Sentence 1 has more vowels\")\n",
    "elif t2>t1:\n",
    "    print(\"Sentence 2 has more vowels\")\n",
    "else:\n",
    "    print(\"Both the sentence has same number of vowels\")\n"
   ]
  },
  {
   "cell_type": "markdown",
   "id": "impressed-astronomy",
   "metadata": {},
   "source": [
    "### Program 25 - Advice please (part2)\n"
   ]
  },
  {
   "cell_type": "code",
   "execution_count": 2,
   "id": "sapphire-annotation",
   "metadata": {},
   "outputs": [
    {
     "name": "stdout",
     "output_type": "stream",
     "text": [
      "Would you like some advice?\n",
      "D\n",
      "Sorry you were asked to enter Y or N\n"
     ]
    }
   ],
   "source": [
    "print(\"Would you like some advice?\")\n",
    "q=input()\n",
    "if q==\"Y\":\n",
    "    print(\"Always know where your towel is.\")\n",
    "elif q==\"N\":\n",
    "    print(\"As you wish\")\n",
    "else:\n",
    "    print(\"Sorry you were asked to enter Y or N\")\n"
   ]
  },
  {
   "cell_type": "markdown",
   "id": "talented-biography",
   "metadata": {},
   "source": [
    "### Program 26- Car tyre check "
   ]
  },
  {
   "cell_type": "code",
   "execution_count": 5,
   "id": "thick-resistance",
   "metadata": {},
   "outputs": [
    {
     "name": "stdout",
     "output_type": "stream",
     "text": [
      "Please enter the test speed (mph)\n",
      "35\n",
      "Please enter the tested stopping distance (m)\n",
      "32\n",
      "Testing speed should be either 50 or 30\n"
     ]
    }
   ],
   "source": [
    "print(\"Please enter the test speed (mph)\")\n",
    "speed=int(input())\n",
    "print(\"Please enter the tested stopping distance (m)\")\n",
    "sdistance=round(float(input()))\n",
    "if speed==30:\n",
    "    if sdistance>14:\n",
    "        print(\"failed the tyre test\")\n",
    "    else :\n",
    "        print(\"Passed the tyre test\")\n",
    "elif speed==50:\n",
    "    if sdistance>38:\n",
    "        print(\"failed the tyre test\")\n",
    "    else:\n",
    "        print(\"passed the tyre test\")\n",
    "else:\n",
    "    print(\"Testing speed should be either 50 or 30\")\n"
   ]
  },
  {
   "cell_type": "markdown",
   "id": "tropical-finland",
   "metadata": {},
   "source": [
    "### Program 27 Charity collection (part2) "
   ]
  },
  {
   "cell_type": "code",
   "execution_count": 4,
   "id": "interpreted-applicant",
   "metadata": {},
   "outputs": [
    {
     "name": "stdout",
     "output_type": "stream",
     "text": [
      "Please enter the first amount raised\n",
      "740\n",
      "Please enter the second amount raised\n",
      "690\n",
      "Please enter the third amount raised\n",
      "1024\n",
      "A total of  2454 was raised.\n",
      "With the company bonus, it is 4454\n"
     ]
    }
   ],
   "source": [
    "for i in range(3):print(\"Please enter the first amount raised\")\n",
    "f=int(input())\n",
    "print(\"Please enter the second amount raised\")\n",
    "s=int(input())\n",
    "print(\"Please enter the third amount raised\")\n",
    "t=int(input())\n",
    "T=f+s+t\n",
    "\n",
    "if T<1000:\n",
    "    T2=T+100\n",
    "elif T>=1000 and T<=2000:\n",
    "    T2=2*T\n",
    "elif T>2000:\n",
    "    T2=4000+(T-2000)\n",
    "print(\"A total of \",T,\"was raised.\")\n",
    "print(\"With the company bonus, it is\",T2)"
   ]
  },
  {
   "cell_type": "code",
   "execution_count": null,
   "id": "fluid-radar",
   "metadata": {},
   "outputs": [],
   "source": []
  }
 ],
 "metadata": {
  "kernelspec": {
   "display_name": "Python 3",
   "language": "python",
   "name": "python3"
  },
  "language_info": {
   "codemirror_mode": {
    "name": "ipython",
    "version": 3
   },
   "file_extension": ".py",
   "mimetype": "text/x-python",
   "name": "python",
   "nbconvert_exporter": "python",
   "pygments_lexer": "ipython3",
   "version": "3.8.8"
  }
 },
 "nbformat": 4,
 "nbformat_minor": 5
}
