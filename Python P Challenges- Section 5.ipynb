{
 "cells": [
  {
   "cell_type": "markdown",
   "id": "b54e998f",
   "metadata": {},
   "source": [
    "#### Sreelal H"
   ]
  },
  {
   "cell_type": "markdown",
   "id": "fba9b919",
   "metadata": {},
   "source": [
    "# Programming challenges for section 5"
   ]
  },
  {
   "cell_type": "markdown",
   "id": "af222277",
   "metadata": {},
   "source": [
    "### Program - 56 Guess the number (part2) "
   ]
  },
  {
   "cell_type": "code",
   "execution_count": 1,
   "id": "9f60167c",
   "metadata": {},
   "outputs": [
    {
     "name": "stdout",
     "output_type": "stream",
     "text": [
      "Guess the hidden number between 1 and 100\n",
      "Enter your guess\n",
      "5\n",
      "your guess was too low. Try again\n",
      "50\n",
      "Your guess was too high. Try again\n",
      "40\n",
      "Your guess was too high. Try again\n",
      "30\n",
      "your guess was too low. Try again\n",
      "35\n",
      "your guess was too low. Try again\n",
      "36\n",
      "Correct! Well done\n"
     ]
    }
   ],
   "source": [
    "import random\n",
    "n=random.randint(1,100)\n",
    "print(\"Guess the hidden number between 1 and 100\")\n",
    "print(\"Enter your guess\")\n",
    "while True:\n",
    "    guess=int(input())\n",
    "    if guess==n:\n",
    "        print(\"Correct! Well done\")\n",
    "        break\n",
    "    elif guess<n and guess>1:\n",
    "        print(\"your guess was too low. Try again\")\n",
    "        continue\n",
    "    elif guess>n and guess<100:\n",
    "        print(\"Your guess was too high. Try again\")\n",
    "        continue\n",
    "    else:\n",
    "        print(\"Your guess was not valid. Enter it again\")\n",
    "        continue\n"
   ]
  },
  {
   "cell_type": "markdown",
   "id": "9c7f2266",
   "metadata": {},
   "source": [
    "### Program 57 Comic collector "
   ]
  },
  {
   "cell_type": "code",
   "execution_count": 4,
   "id": "0ca034d9",
   "metadata": {},
   "outputs": [
    {
     "name": "stdout",
     "output_type": "stream",
     "text": [
      "Please enter the donated comics:\n",
      "34,56,12,3\n",
      "Liam now owns issues:\n",
      "[1, 2, 3, 7, 8, 9, 10, 16, 34, 56, 12, 3]\n"
     ]
    }
   ],
   "source": [
    "liam=[1,2,3,7,8,9,10,16]\n",
    "print(\"Please enter the donated comics:\")\n",
    "donated=list(map(int, input().split(\",\")))\n",
    "liam.extend(donated)\n",
    "print('Liam now owns issues:')\n",
    "print(liam)"
   ]
  },
  {
   "cell_type": "markdown",
   "id": "49c62074",
   "metadata": {},
   "source": [
    "### Program 58- Dress sizes "
   ]
  },
  {
   "cell_type": "code",
   "execution_count": 9,
   "id": "ec07e561",
   "metadata": {},
   "outputs": [
    {
     "name": "stdout",
     "output_type": "stream",
     "text": [
      "Do you wish to add(A) or remove (R) a dress?\n",
      "A\n",
      "Please enter a new dress size: 12\n",
      "Stock =  [12]\n",
      "Do you wish to add(A) or remove (R) a dress?\n",
      "A\n",
      "Please enter a new dress size: 20\n",
      "Stock =  [12, 20]\n",
      "Do you wish to add(A) or remove (R) a dress?\n",
      "A\n",
      "Please enter a new dress size: 8\n",
      "Stock =  [12, 20, 8]\n",
      "Do you wish to add(A) or remove (R) a dress?\n",
      "A\n",
      "Please enter a new dress size: 999\n",
      "Stock =  [12, 20, 8]\n",
      "The largest dress in stock is 20\n",
      "The smallest dress in stock is size 8\n"
     ]
    }
   ],
   "source": [
    "stock=[]\n",
    "while True:\n",
    "    print(\"Do you wish to add(A) or remove (R) a dress?\")\n",
    "    ans=input()\n",
    "    if ans==\"A\":\n",
    "        st1=int(input(\"Please enter a new dress size: \"))\n",
    "        if st1==999:\n",
    "            maxx=max(stock)\n",
    "            minn=min(stock)\n",
    "            print(\"Stock = \", stock)\n",
    "            print(\"The largest dress in stock is\", maxx)\n",
    "            print(\"The smallest dress in stock is size\", minn)\n",
    "            break\n",
    "        stock.append(st1)\n",
    "        print(\"Stock = \", stock)\n",
    "    elif ans==\"R\":\n",
    "        st2=int(input(\"Please enter a new dress size: \"))\n",
    "        if st2==999:\n",
    "            maxx=max(stock)\n",
    "            minn=min(stock)\n",
    "            print(\"Stock = \", stock)\n",
    "            print(\"The largest dress in stock is\", maxx)\n",
    "            print(\"The smallest dress in stock is size\", minn)\n",
    "            break\n",
    "        stock.remove(st2)\n",
    "        print(\"Stock = \", stock)\n",
    "    else:\n",
    "        print(\"Invalid\")"
   ]
  },
  {
   "cell_type": "markdown",
   "id": "9772f782",
   "metadata": {},
   "source": [
    "### Program 59 - Which is bigger?"
   ]
  },
  {
   "cell_type": "code",
   "execution_count": 14,
   "id": "e6149c07",
   "metadata": {},
   "outputs": [
    {
     "name": "stdout",
     "output_type": "stream",
     "text": [
      "I have generated two random numbers.\n",
      "Which is largest 1 or 2\n",
      "Enter your choice\n",
      "1\n",
      "Number 1=  896\n",
      "Number 2= 823\n",
      "Correct, number 1 was the largest.\n",
      "I have generated two random numbers.\n",
      "Which is largest 1 or 2\n",
      "Enter your choice\n",
      "2\n",
      "Number 1=  80\n",
      "Number 2= 45\n",
      "Wrong, number 1 was the largest\n",
      "I have generated two random numbers.\n",
      "Which is largest 1 or 2\n",
      "Enter your choice\n",
      "2\n",
      "Number 1=  465\n",
      "Number 2= 803\n",
      "Correct, number 2 was the largest.\n",
      "I have generated two random numbers.\n",
      "Which is largest 1 or 2\n",
      "Enter your choice\n",
      "1\n",
      "Number 1=  569\n",
      "Number 2= 10\n",
      "Correct, number 1 was the largest.\n",
      "I have generated two random numbers.\n",
      "Which is largest 1 or 2\n",
      "Enter your choice\n",
      "1\n",
      "Number 1=  768\n",
      "Number 2= 852\n",
      "Wrong, number 2 was the largest\n",
      "I have generated two random numbers.\n",
      "Which is largest 1 or 2\n",
      "Enter your choice\n",
      "2\n",
      "Number 1=  181\n",
      "Number 2= 931\n",
      "Correct, number 2 was the largest.\n",
      "I have generated two random numbers.\n",
      "Which is largest 1 or 2\n",
      "Enter your choice\n",
      "1\n",
      "Number 1=  972\n",
      "Number 2= 133\n",
      "Correct, number 1 was the largest.\n",
      "I have generated two random numbers.\n",
      "Which is largest 1 or 2\n",
      "Enter your choice\n",
      "1\n",
      "Number 1=  818\n",
      "Number 2= 136\n",
      "Correct, number 1 was the largest.\n",
      "I have generated two random numbers.\n",
      "Which is largest 1 or 2\n",
      "Enter your choice\n",
      "1\n",
      "Number 1=  299\n",
      "Number 2= 733\n",
      "Wrong, number 2 was the largest\n",
      "I have generated two random numbers.\n",
      "Which is largest 1 or 2\n",
      "Enter your choice\n",
      "2\n",
      "Number 1=  106\n",
      "Number 2= 551\n",
      "Correct, number 2 was the largest.\n",
      "Your total was 7 out of 10\n",
      "Your final score was 7 correct\n"
     ]
    }
   ],
   "source": [
    "import random\n",
    "total=[]\n",
    "for i in range(10):\n",
    "    num1=random.randint(1,1000)\n",
    "    num2=random.randint(1,1000)\n",
    "    print(\"I have generated two random numbers.\")\n",
    "    print(\"Which is largest 1 or 2\")\n",
    "    print(\"Enter your choice\")\n",
    "    ans=int(input())\n",
    "    print(\"Number 1= \", num1)\n",
    "    print(\"Number 2=\", num2)\n",
    "    if ans==1:\n",
    "        if num1>num2:\n",
    "            print(\"Correct, number 1 was the largest.\")\n",
    "            total.append(1)\n",
    "        elif num1<num2:\n",
    "            print(\"Wrong, number 2 was the largest\")\n",
    "        else:\n",
    "            print(\"Both number were same\")\n",
    "    elif ans==2:\n",
    "        if num2>num1:\n",
    "            total.append(1)\n",
    "            print(\"Correct, number 2 was the largest.\")\n",
    "        elif num2<num1:\n",
    "            print(\"Wrong, number 1 was the largest\")\n",
    "        else:\n",
    "            print(\"Both the numbers were same\")\n",
    "    else:\n",
    "        print(\"Enter 1 or 2\")\n",
    "        continue\n",
    "print(\"Your total was\", sum(total),\"out of 10\")\n",
    "print(\"Your final score was\",sum(total),\"correct\")\n",
    "    \n",
    "    "
   ]
  },
  {
   "cell_type": "markdown",
   "id": "1bec3e67",
   "metadata": {},
   "source": [
    "### Program 60 - Meal vouchers "
   ]
  },
  {
   "cell_type": "code",
   "execution_count": 2,
   "id": "6b000ffb",
   "metadata": {},
   "outputs": [
    {
     "name": "stdout",
     "output_type": "stream",
     "text": [
      "Enter age: 45\n",
      "Enter seat: 27\n",
      "Do you wish to enter another: Y\n",
      "Enter age: 89\n",
      "Enter seat: 4\n",
      "Do you wish to enter another: Y\n",
      "Enter age: 0\n",
      "Enter seat: 49\n",
      "Do you wish to enter another: Y\n",
      "Enter age: 0\n",
      "Enter seat: 21\n",
      "Do you wish to enter another: N\n",
      "The oldest member is sitting in seat 2\n",
      "2 audience members did not give their age\n"
     ]
    }
   ],
   "source": [
    "ages=[]\n",
    "seats=[]\n",
    "while True:\n",
    "    age=int(input(\"Enter age: \"))\n",
    "    ages.append(age)\n",
    "    seat=int(input(\"Enter seat: \"))\n",
    "    seats.append(seat)\n",
    "    nxt=input(\"Do you wish to enter another: \")\n",
    "    if nxt==\"Y\":\n",
    "        continue\n",
    "    elif nxt==\"N\":\n",
    "        m=max(ages)\n",
    "        n=ages.index(m)\n",
    "        z=ages.count(0)\n",
    "        print(\"The oldest member is sitting in seat\",n+1)  \n",
    "        print(z,\"audience members did not give their age\")\n",
    "        break\n"
   ]
  },
  {
   "cell_type": "markdown",
   "id": "3f4b6a35",
   "metadata": {},
   "source": [
    "### Program 61 - Driving scores "
   ]
  },
  {
   "cell_type": "code",
   "execution_count": 7,
   "id": "6e02a561",
   "metadata": {},
   "outputs": [
    {
     "name": "stdout",
     "output_type": "stream",
     "text": [
      "Please enter the judges scores:\n",
      "7,8,6,9,6,8,4\n",
      "Please enter the difficulty rating\n",
      "3.4\n",
      "The three remaining judges scores are:\n",
      "7\n",
      "6\n",
      "8\n",
      "The divers score is: 71.4\n"
     ]
    }
   ],
   "source": [
    "print(\"Please enter the judges scores:\")\n",
    "scores=list(map(int, input().split(\",\")))\n",
    "print(\"Please enter the difficulty rating\")\n",
    "diff=float(input())\n",
    "for i in range(2):\n",
    "    m=max(scores)\n",
    "    n=min(scores)\n",
    "    scores.remove(m)\n",
    "    scores.remove(n)\n",
    "total=sum(scores)\n",
    "f_score=round((total*diff),1)\n",
    "print(\"The three remaining judges scores are:\")\n",
    "for j in range(3):\n",
    "    print(scores[j])\n",
    "print(\"The divers score is:\",f_score)"
   ]
  },
  {
   "cell_type": "markdown",
   "id": "23bfa522",
   "metadata": {},
   "source": [
    "### Program 62- Dice solitire game "
   ]
  },
  {
   "cell_type": "code",
   "execution_count": 17,
   "id": "eb337088",
   "metadata": {},
   "outputs": [
    {
     "name": "stdout",
     "output_type": "stream",
     "text": [
      "After roll : 1 [4]\n",
      "After roll : 2 [4, 1]\n",
      "After roll : 3 [4, 1, 2]\n",
      "After roll : 4 [4, 1, 2, 5]\n",
      "After roll : 5 [4, 1, 2, 5, 3]\n",
      "After roll : 6 [4, 2, 5, 3]\n",
      "After roll : 7 [4, 5, 3]\n",
      "After roll : 8 [4, 5]\n",
      "After roll : 9 [4, 5, 6]\n",
      "After roll : 10 [4, 5, 6, 1]\n",
      "After roll : 11 [4, 5, 1]\n",
      "After roll : 12 [4, 1]\n",
      "After roll : 13 [1]\n",
      "After roll : 14 [1, 6]\n",
      "After roll : 15 [1]\n",
      "After roll : 16 [1, 4]\n",
      "After roll : 17 [1, 4, 6]\n",
      "After roll : 18 [1, 4, 6, 2]\n",
      "After roll : 19 [1, 4, 6, 2, 5]\n",
      "After roll : 20 [1, 4, 6, 2]\n",
      "After roll : 21 [1, 4, 6, 2, 3]\n",
      "After roll : 22 [1, 6, 2, 3]\n",
      "After roll : 23 [1, 6, 2, 3, 4]\n",
      "After roll : 24 [1, 6, 2, 3]\n",
      "After roll : 25 [1, 6, 2, 3, 5]\n",
      "After roll : 26 [1, 6, 2, 3]\n",
      "After roll : 27 [1, 6, 2, 3, 4]\n",
      "After roll : 28 [1, 6, 2, 3]\n",
      "After roll : 29 [1, 6, 2, 3, 4]\n",
      "After roll : 30 [1, 6, 3, 4]\n",
      "After roll : 31 [1, 6, 4]\n",
      "After roll : 32 [1, 6, 4, 2]\n",
      "After roll : 33 [1, 6, 4]\n",
      "After roll : 34 [1, 6, 4, 3]\n",
      "After roll : 35 [1, 6, 4, 3, 2]\n",
      "After roll : 36 [1, 6, 4, 3]\n",
      "After roll : 37 [1, 6, 4, 3, 2]\n",
      "After roll : 38 [1, 6, 4, 3, 2, 5]\n",
      "Game completed in 38 rolls of the dice.\n"
     ]
    }
   ],
   "source": [
    "import random\n",
    "dice=[]\n",
    "count=0\n",
    "while True:\n",
    "    d=random.randint(1,6)\n",
    "    if dice.count(d)==0:\n",
    "        dice.append(d)\n",
    "    else:\n",
    "        dice.remove(d)\n",
    "    count=count+1    \n",
    "    print(\"After roll :\",count, dice)\n",
    "    if len(dice)==6:\n",
    "        print(\"Game completed in\",count,\"rolls of the dice.\")\n",
    "        break\n",
    "    else:\n",
    "        continue"
   ]
  }
 ],
 "metadata": {
  "kernelspec": {
   "display_name": "Python 3",
   "language": "python",
   "name": "python3"
  },
  "language_info": {
   "codemirror_mode": {
    "name": "ipython",
    "version": 3
   },
   "file_extension": ".py",
   "mimetype": "text/x-python",
   "name": "python",
   "nbconvert_exporter": "python",
   "pygments_lexer": "ipython3",
   "version": "3.8.8"
  }
 },
 "nbformat": 4,
 "nbformat_minor": 5
}
