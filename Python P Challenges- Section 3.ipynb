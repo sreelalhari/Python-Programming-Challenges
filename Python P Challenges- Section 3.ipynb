{
 "cells": [
  {
   "cell_type": "markdown",
   "id": "6922a947",
   "metadata": {},
   "source": [
    "#### Sreelal H "
   ]
  },
  {
   "cell_type": "markdown",
   "id": "pursuant-slovakia",
   "metadata": {},
   "source": [
    "# Programming Challenges for Section 3"
   ]
  },
  {
   "cell_type": "markdown",
   "id": "alert-manchester",
   "metadata": {},
   "source": [
    "### Program 28 Lines Cheat"
   ]
  },
  {
   "cell_type": "code",
   "execution_count": 6,
   "id": "exceptional-course",
   "metadata": {},
   "outputs": [
    {
     "name": "stdout",
     "output_type": "stream",
     "text": [
      "Which sentence would you like copied?\n",
      "Don't behave like a muppet in class\n",
      "Don't behave like a muppet in class\n",
      "Don't behave like a muppet in class\n",
      "Don't behave like a muppet in class\n",
      "Don't behave like a muppet in class\n",
      "Don't behave like a muppet in class\n",
      "Don't behave like a muppet in class\n",
      "Don't behave like a muppet in class\n",
      "Don't behave like a muppet in class\n",
      "Don't behave like a muppet in class\n",
      "Don't behave like a muppet in class\n",
      "Don't behave like a muppet in class\n",
      "Don't behave like a muppet in class\n",
      "Don't behave like a muppet in class\n",
      "Don't behave like a muppet in class\n",
      "Don't behave like a muppet in class\n",
      "Don't behave like a muppet in class\n",
      "Don't behave like a muppet in class\n",
      "Don't behave like a muppet in class\n",
      "Don't behave like a muppet in class\n",
      "Don't behave like a muppet in class\n"
     ]
    }
   ],
   "source": [
    "print(\"Which sentence would you like copied?\")\n",
    "sentence=input()\n",
    "for i in range(20):\n",
    "    print(sentence)"
   ]
  },
  {
   "cell_type": "markdown",
   "id": "guilty-opposition",
   "metadata": {},
   "source": [
    "### Program 29 - Charity collection (part 3) "
   ]
  },
  {
   "cell_type": "code",
   "execution_count": 7,
   "id": "historic-hospital",
   "metadata": {},
   "outputs": [
    {
     "name": "stdout",
     "output_type": "stream",
     "text": [
      "Please enter the first amount raised\n",
      "398\n",
      "Please enter the second amount raised\n",
      "193\n",
      "Please enter the third amount raised\n",
      "478\n",
      "A total of  1069 was raised.\n",
      "With the company bonus, it is\n",
      "2138 !!!\n",
      "2138 !!!\n",
      "2138 !!!\n"
     ]
    }
   ],
   "source": [
    "print(\"Please enter the first amount raised\")\n",
    "f=int(input())\n",
    "print(\"Please enter the second amount raised\")\n",
    "s=int(input())\n",
    "print(\"Please enter the third amount raised\")\n",
    "t=int(input())\n",
    "T=f+s+t\n",
    "\n",
    "if T<1000:\n",
    "    T2=T+100\n",
    "elif T>=1000 and T<=2000:\n",
    "    T2=2*T\n",
    "elif T>2000:\n",
    "    T2=4000+(T-2000)\n",
    "print(\"A total of \",T,\"was raised.\")\n",
    "print(\"With the company bonus, it is\")\n",
    "for i in range(3):\n",
    "    print(T2,\"!!!\")"
   ]
  },
  {
   "cell_type": "markdown",
   "id": "national-myrtle",
   "metadata": {},
   "source": [
    "### Program 30 - Name switch "
   ]
  },
  {
   "cell_type": "code",
   "execution_count": 6,
   "id": "alternate-carter",
   "metadata": {},
   "outputs": [
    {
     "name": "stdout",
     "output_type": "stream",
     "text": [
      "Please enter the first name:\n",
      "Matt\n",
      "please enter the surname:\n",
      "Reid\n",
      "M R MATT reid MattReid\n",
      "MattReid REID matt r m\n",
      "M R MATT reid MattReid\n",
      "MattReid REID matt r m\n",
      "M R MATT reid MattReid\n",
      "MattReid REID matt r m\n"
     ]
    }
   ],
   "source": [
    "print(\"Please enter the first name:\")\n",
    "fn=str(input())\n",
    "print(\"please enter the surname:\")\n",
    "sn=str(input())\n",
    "p1=fn[0]\n",
    "p2=sn[0]\n",
    "for i in range(3):\n",
    "    print(p1.upper(),p2.upper(),fn.upper(),sn.lower(),fn+sn)\n",
    "    print(fn+sn,sn.upper(),fn.lower(),p2.lower(),p1.lower())\n"
   ]
  },
  {
   "cell_type": "markdown",
   "id": "accessible-bradford",
   "metadata": {},
   "source": [
    "### Program 31 - Cricket over "
   ]
  },
  {
   "cell_type": "code",
   "execution_count": 7,
   "id": "formed-netscape",
   "metadata": {},
   "outputs": [
    {
     "name": "stdout",
     "output_type": "stream",
     "text": [
      "Please enter the score for each ball\n",
      "0\n",
      "2\n",
      "0\n",
      "0\n",
      "4\n",
      "6\n",
      "This over's score was: 12\n"
     ]
    }
   ],
   "source": [
    "print(\"Please enter the score for each ball\")\n",
    "total=0\n",
    "for i in range(6):\n",
    "    score=int(input())\n",
    "    total=total + score\n",
    "print(\"This over's score was:\", total)"
   ]
  },
  {
   "cell_type": "markdown",
   "id": "useful-depression",
   "metadata": {},
   "source": [
    "### Program 32 - Average temperature "
   ]
  },
  {
   "cell_type": "code",
   "execution_count": 10,
   "id": "unsigned-sugar",
   "metadata": {},
   "outputs": [
    {
     "name": "stdout",
     "output_type": "stream",
     "text": [
      "Please enter the seven temperature.\n",
      "12\n",
      "14\n",
      "7\n",
      "6\n",
      "7\n",
      "11\n",
      "11\n",
      "this week's average temperature was:\n",
      "9.71 degree centigrade\n"
     ]
    }
   ],
   "source": [
    "print(\"Please enter the seven temperature.\")\n",
    "temp=0\n",
    "for i in range(7):\n",
    "    temp1=int(input())\n",
    "    temp=temp+temp1\n",
    "avg=temp/7\n",
    "print(\"this week's average temperature was:\")\n",
    "\n",
    "print(round(avg,2) ,\"degree centigrade\")"
   ]
  },
  {
   "cell_type": "markdown",
   "id": "current-nicaragua",
   "metadata": {},
   "source": [
    "### Program 33- LInes cheat (part2)"
   ]
  },
  {
   "cell_type": "code",
   "execution_count": 11,
   "id": "arctic-associate",
   "metadata": {},
   "outputs": [
    {
     "name": "stdout",
     "output_type": "stream",
     "text": [
      "Which sentence would you like copied?\n",
      "Mr Reid is the best teacher.\n",
      "how many times would you like this to be copied\n",
      "54\n",
      "Mr Reid is the best teacher.\n",
      "Mr Reid is the best teacher.\n",
      "Mr Reid is the best teacher.\n",
      "Mr Reid is the best teacher.\n",
      "Mr Reid is the best teacher.\n",
      "Mr Reid is the best teacher.\n",
      "Mr Reid is the best teacher.\n",
      "Mr Reid is the best teacher.\n",
      "Mr Reid is the best teacher.\n",
      "Mr Reid is the best teacher.\n",
      "Mr Reid is the best teacher.\n",
      "Mr Reid is the best teacher.\n",
      "Mr Reid is the best teacher.\n",
      "Mr Reid is the best teacher.\n",
      "Mr Reid is the best teacher.\n",
      "Mr Reid is the best teacher.\n",
      "Mr Reid is the best teacher.\n",
      "Mr Reid is the best teacher.\n",
      "Mr Reid is the best teacher.\n",
      "Mr Reid is the best teacher.\n",
      "Mr Reid is the best teacher.\n",
      "Mr Reid is the best teacher.\n",
      "Mr Reid is the best teacher.\n",
      "Mr Reid is the best teacher.\n",
      "Mr Reid is the best teacher.\n",
      "Mr Reid is the best teacher.\n",
      "Mr Reid is the best teacher.\n",
      "Mr Reid is the best teacher.\n",
      "Mr Reid is the best teacher.\n",
      "Mr Reid is the best teacher.\n",
      "Mr Reid is the best teacher.\n",
      "Mr Reid is the best teacher.\n",
      "Mr Reid is the best teacher.\n",
      "Mr Reid is the best teacher.\n",
      "Mr Reid is the best teacher.\n",
      "Mr Reid is the best teacher.\n",
      "Mr Reid is the best teacher.\n",
      "Mr Reid is the best teacher.\n",
      "Mr Reid is the best teacher.\n",
      "Mr Reid is the best teacher.\n",
      "Mr Reid is the best teacher.\n",
      "Mr Reid is the best teacher.\n",
      "Mr Reid is the best teacher.\n",
      "Mr Reid is the best teacher.\n",
      "Mr Reid is the best teacher.\n",
      "Mr Reid is the best teacher.\n",
      "Mr Reid is the best teacher.\n",
      "Mr Reid is the best teacher.\n",
      "Mr Reid is the best teacher.\n",
      "Mr Reid is the best teacher.\n",
      "Mr Reid is the best teacher.\n",
      "Mr Reid is the best teacher.\n",
      "Mr Reid is the best teacher.\n",
      "Mr Reid is the best teacher.\n"
     ]
    }
   ],
   "source": [
    "print(\"Which sentence would you like copied?\")\n",
    "sentence=input()\n",
    "print(\"how many times would you like this to be copied\")\n",
    "times=int(input())\n",
    "for i in range(times):\n",
    "    print(sentence)"
   ]
  },
  {
   "cell_type": "markdown",
   "id": "progressive-conspiracy",
   "metadata": {},
   "source": [
    "### Program 34- Charity collection (part4) "
   ]
  },
  {
   "cell_type": "code",
   "execution_count": 12,
   "id": "operating-evolution",
   "metadata": {},
   "outputs": [
    {
     "name": "stdout",
     "output_type": "stream",
     "text": [
      "How many charity raisers were there\n",
      "6\n",
      "Enter the total amount raised by each\n",
      "238\n",
      "624\n",
      "546\n",
      "333\n",
      "651\n",
      "174\n",
      "A total of  2566 was raised.\n",
      "This will be increased to\n",
      "4566 !!!\n",
      "4566 !!!\n",
      "4566 !!!\n"
     ]
    }
   ],
   "source": [
    "print(\"How many charity raisers were there\")\n",
    "number=int(input())\n",
    "print(\"Enter the total amount raised by each\")\n",
    "T=0\n",
    "for i in range(number):\n",
    "    total=int(input())\n",
    "    T=T+total\n",
    "\n",
    "if T<1000:\n",
    "    T2=T+100\n",
    "elif T>=1000 and T<=2000:\n",
    "    T2=2*T\n",
    "elif T>2000:\n",
    "    T2=4000+(T-2000)\n",
    "print(\"A total of \",T,\"was raised.\")\n",
    "print(\"This will be increased to\")\n",
    "for i in range(3):\n",
    "    print(T2,\"!!!\")"
   ]
  },
  {
   "cell_type": "markdown",
   "id": "conventional-catch",
   "metadata": {},
   "source": [
    "### Program 35- Press up challenge"
   ]
  },
  {
   "cell_type": "code",
   "execution_count": 14,
   "id": "motivated-sheet",
   "metadata": {},
   "outputs": [
    {
     "name": "stdout",
     "output_type": "stream",
     "text": [
      "Please enter the number of students:\n",
      "3\n",
      "Please enter the time in seconds for each students\n",
      "student 1\n",
      "82\n",
      "student 2\n",
      "67\n",
      "student 3\n",
      "45\n",
      "the average time for the 3 students was:\n",
      "64.67\n"
     ]
    }
   ],
   "source": [
    "print(\"Please enter the number of students:\")\n",
    "ns=int(input())\n",
    "print(\"Please enter the time in seconds for each students\")\n",
    "time=0\n",
    "for i in range(1,ns+1):\n",
    "    print(\"student\",i)\n",
    "    t=int(input())\n",
    "    time=time+t\n",
    "avg=time/ns\n",
    "print(\"the average time for the\",ns,\"students was:\")\n",
    "print(round(avg,2))"
   ]
  },
  {
   "cell_type": "markdown",
   "id": "monetary-deviation",
   "metadata": {},
   "source": [
    "### Program 36- Number patterns"
   ]
  },
  {
   "cell_type": "code",
   "execution_count": 1,
   "id": "technological-uncle",
   "metadata": {},
   "outputs": [
    {
     "name": "stdout",
     "output_type": "stream",
     "text": [
      "Odd Numbers List\n",
      "1\n",
      "3\n",
      "5\n",
      "7\n",
      "9\n",
      "11\n"
     ]
    }
   ],
   "source": [
    "print(\"Odd Numbers List\")\n",
    "for i in range(1,12,2):\n",
    "    print(i)"
   ]
  },
  {
   "cell_type": "markdown",
   "id": "greek-patent",
   "metadata": {},
   "source": [
    "### Program 37 - Number pattern (part2) "
   ]
  },
  {
   "cell_type": "code",
   "execution_count": 3,
   "id": "educated-integration",
   "metadata": {},
   "outputs": [
    {
     "name": "stdout",
     "output_type": "stream",
     "text": [
      "This following program will display the odd numbers.\n",
      "Enter the first number in the list\n",
      "5\n",
      "Enter the last number in the list\n",
      "13\n",
      "Odd numbers list\n",
      "5\n",
      "7\n",
      "9\n",
      "11\n",
      "13\n"
     ]
    }
   ],
   "source": [
    "print(\"This following program will display the odd numbers.\")\n",
    "print(\"Enter the first number in the list\")\n",
    "f=int(input())\n",
    "print(\"Enter the last number in the list\")\n",
    "l=int(input())\n",
    "n=l+1\n",
    "print(\"Odd numbers list\")\n",
    "for i in range(f,n,2):\n",
    "    print(i)"
   ]
  },
  {
   "cell_type": "markdown",
   "id": "directed-approval",
   "metadata": {},
   "source": [
    "### Program 38- Password "
   ]
  },
  {
   "cell_type": "code",
   "execution_count": 16,
   "id": "contrary-scale",
   "metadata": {},
   "outputs": [
    {
     "name": "stdout",
     "output_type": "stream",
     "text": [
      "Please enter the password\n",
      "snool\n",
      "Sorry incorrect password,Try again\n",
      "Please enter the password\n",
      "ornery\n",
      "Entry gained\n"
     ]
    }
   ],
   "source": [
    "while True:\n",
    "    print(\"Please enter the password\")\n",
    "    pw=input()\n",
    "    if pw==\"ornery\":\n",
    "        print(\"Entry gained\")\n",
    "        break\n",
    "    else:\n",
    "        print(\"Sorry incorrect password,Try again\")\n",
    "        continue\n",
    "     \n",
    "        \n",
    "        "
   ]
  },
  {
   "cell_type": "markdown",
   "id": "fundamental-laser",
   "metadata": {},
   "source": [
    "### Program 39-Number pattern(part3) "
   ]
  },
  {
   "cell_type": "code",
   "execution_count": 21,
   "id": "approved-birth",
   "metadata": {},
   "outputs": [
    {
     "name": "stdout",
     "output_type": "stream",
     "text": [
      "This following program will display odd numbers.\n",
      "Enter the first odd number in the list\n",
      "5\n",
      "Enter the last odd number on the list\n",
      "17\n",
      "Sorry, the number must be at least 5+20\n",
      "Please re enter the number\n",
      "27\n",
      "5\n",
      "7\n",
      "9\n",
      "11\n",
      "13\n",
      "15\n",
      "17\n",
      "19\n",
      "21\n",
      "23\n",
      "25\n"
     ]
    }
   ],
   "source": [
    "print(\"This following program will display odd numbers.\")\n",
    "print(\"Enter the first odd number in the list\")\n",
    "f=int(input())\n",
    "print(\"Enter the last odd number on the list\")\n",
    "l=int(input())\n",
    "while not(l>f+20):\n",
    "    print(\"Sorry, the number must be at least 5+20\")\n",
    "    print(\"Please re enter the number\")\n",
    "    l=int(input())\n",
    "else:\n",
    "    for i in range(f,l,2):\n",
    "        print(i)"
   ]
  },
  {
   "cell_type": "markdown",
   "id": "extreme-farming",
   "metadata": {},
   "source": [
    "### Program 40- Advice please (part3)"
   ]
  },
  {
   "cell_type": "code",
   "execution_count": 23,
   "id": "turned-straight",
   "metadata": {},
   "outputs": [
    {
     "name": "stdout",
     "output_type": "stream",
     "text": [
      "Would you like some advice?\n",
      "H\n",
      "Please enter Y or N\n",
      "Would you like some advice?\n",
      "N\n",
      "Dont be silly you definetly need some advice\n",
      "Would you like some advice?\n",
      "Y\n",
      "Don't feed the trolls!\n"
     ]
    }
   ],
   "source": [
    "while True:\n",
    "    print(\"Would you like some advice?\")\n",
    "    q=input()\n",
    "    if q==\"Y\":\n",
    "        print(\"Don't feed the trolls!\")\n",
    "        break\n",
    "    elif q==\"N\":\n",
    "        print(\"Dont be silly you definetly need some advice\")\n",
    "        continue\n",
    "    else:\n",
    "        print(\"Please enter Y or N\")\n",
    "        continue"
   ]
  },
  {
   "cell_type": "markdown",
   "id": "intermediate-yugoslavia",
   "metadata": {},
   "source": [
    "### Program 41- No more presents "
   ]
  },
  {
   "cell_type": "code",
   "execution_count": 27,
   "id": "exciting-promotion",
   "metadata": {},
   "outputs": [
    {
     "name": "stdout",
     "output_type": "stream",
     "text": [
      "Please enter the price for each present:\n",
      "35\n",
      "100\n",
      "50\n",
      "45\n",
      "Limit Exceeded.\n",
      "You can't include the 45 present\n"
     ]
    }
   ],
   "source": [
    "print(\"Please enter the price for each present:\")\n",
    "t=0\n",
    "while True:\n",
    "    p=int(input())\n",
    "    t=t+p\n",
    "    if t>200:\n",
    "        print(\"Limit Exceeded.\")\n",
    "        print(\"You can't include the\",p,\"present\")\n",
    "        break\n",
    "    else:\n",
    "        continue"
   ]
  },
  {
   "cell_type": "markdown",
   "id": "imposed-norway",
   "metadata": {},
   "source": [
    "### Program 42- Menu system"
   ]
  },
  {
   "cell_type": "code",
   "execution_count": 3,
   "id": "brown-alexandria",
   "metadata": {},
   "outputs": [
    {
     "name": "stdout",
     "output_type": "stream",
     "text": [
      "Enter your menu choice (Q, A, K or L)\n",
      "V\n",
      "V is not valid. Enter Q, A,K, or L\n",
      "L\n",
      "L selected\n"
     ]
    }
   ],
   "source": [
    "print(\"Enter your menu choice (Q, A, K or L)\")\n",
    "while True:\n",
    "    menu=input()\n",
    "    m=menu.upper()\n",
    "    if m==\"Q\" or m==\"A\" or m==\"K\" or m==\"L\":\n",
    "        print(m,\"selected\")\n",
    "        break\n",
    "    else:\n",
    "        print(m,\"is not valid. Enter Q, A,K, or L\")\n",
    "        continue\n",
    "        \n",
    "        \n",
    "        \n",
    "    \n"
   ]
  },
  {
   "cell_type": "markdown",
   "id": "minor-internship",
   "metadata": {},
   "source": [
    "### Program 43- Guess the number "
   ]
  },
  {
   "cell_type": "code",
   "execution_count": 4,
   "id": "expired-dream",
   "metadata": {},
   "outputs": [
    {
     "name": "stdout",
     "output_type": "stream",
     "text": [
      "Guess the hidden number between 1 and 100\n",
      "Enter your guess\n",
      "112\n",
      "Your guess was not valid. Enter it again\n",
      "67\n",
      "Your guess was too high. Try again\n",
      "50\n",
      "your guess was too low. Try again\n",
      "52\n",
      "Correct! Well done\n"
     ]
    }
   ],
   "source": [
    "print(\"Guess the hidden number between 1 and 100\")\n",
    "print(\"Enter your guess\")\n",
    "while True:\n",
    "    guess=int(input())\n",
    "    if guess==52:\n",
    "        print(\"Correct! Well done\")\n",
    "        break\n",
    "    elif guess<52 and guess>1:\n",
    "        print(\"your guess was too low. Try again\")\n",
    "        continue\n",
    "    elif guess>52 and guess<100:\n",
    "        print(\"Your guess was too high. Try again\")\n",
    "        continue\n",
    "    else:\n",
    "        print(\"Your guess was not valid. Enter it again\")\n",
    "        continue\n"
   ]
  },
  {
   "cell_type": "markdown",
   "id": "corresponding-fiber",
   "metadata": {},
   "source": [
    "### Program 44- Average temperature (part 2) "
   ]
  },
  {
   "cell_type": "code",
   "execution_count": 1,
   "id": "advanced-profession",
   "metadata": {},
   "outputs": [
    {
     "name": "stdout",
     "output_type": "stream",
     "text": [
      "Week 1\n",
      "Please enter the seven temperature\n",
      "12\n",
      "14\n",
      "11\n",
      "7\n",
      "55\n",
      "invalid temperature\n",
      "7\n",
      "11\n",
      "11\n",
      "Week 2\n",
      "Please enter the seven temperature\n",
      "5\n",
      "5\n",
      "5\n",
      "5\n",
      "5\n",
      "5\n",
      "5\n",
      "Week 3\n",
      "Please enter the seven temperature\n",
      "5\n",
      "5\n",
      "5\n",
      "5\n",
      "5\n",
      "5\n",
      "5\n",
      "Week 4\n",
      "Please enter the seven temperature\n",
      "5\n",
      "5\n",
      "5\n",
      "5\n",
      "5\n",
      "5\n",
      "5\n",
      "Week 1 average was:\n",
      "10.428571428571429\n",
      "Week 2 average was:\n",
      "5.0\n",
      "Week 3 average was:\n",
      "5.0\n",
      "Week 4 average was:\n",
      "5.0\n"
     ]
    }
   ],
   "source": [
    "avg_list=[]\n",
    "for i in range(4):    \n",
    "    print(\"Week\",i+1)\n",
    "    print(\"Please enter the seven temperature\")\n",
    "    total=0\n",
    "    for j in range(7):\n",
    "        t=int(input())\n",
    "        while not(t>-40 and t<55):\n",
    "            print(\"invalid temperature\")\n",
    "            t=int(input())\n",
    "        total=total+t\n",
    "    avg=total/7\n",
    "    avg_list.append(avg)\n",
    "        \n",
    "for k in range(4):\n",
    "    print(\"Week\",k+1,\"average was:\")\n",
    "    print(avg_list[k])\n",
    "    "
   ]
  },
  {
   "cell_type": "markdown",
   "id": "professional-characterization",
   "metadata": {},
   "source": [
    "### Program 45 - Pailwater darts tournament"
   ]
  },
  {
   "cell_type": "code",
   "execution_count": 2,
   "id": "heated-manor",
   "metadata": {},
   "outputs": [
    {
     "name": "stdout",
     "output_type": "stream",
     "text": [
      "Please enter the scores for player one\n",
      "34\n",
      "26\n",
      "200\n",
      "Invalid score\n",
      "100\n",
      "Please enter the scores for player two\n",
      "78\n",
      "80\n",
      "97\n",
      "Player two scored the highest individual score\n",
      "Player two wins\n"
     ]
    }
   ],
   "source": [
    "total1=0\n",
    "print(\"Please enter the scores for player one\")\n",
    "for p in range(3):\n",
    "    score1=int(input())\n",
    "    while not(score1>0 and score1<180):\n",
    "        print(\"Invalid score\")\n",
    "        score1=int(input())\n",
    "    total1=total1+score1\n",
    "total2=0\n",
    "print(\"Please enter the scores for player two\")\n",
    "for q in range(3):\n",
    "    score2=int(input())\n",
    "    while not(score2>0 and score2<180):\n",
    "        print(\"Invalid score\")\n",
    "        score2=int(input())\n",
    "    total2=total2+score2\n",
    "if total1>total2:\n",
    "    print(\"Player one scored the higheset individual score\")\n",
    "    print(\"Player one wins!!\")\n",
    "elif total1<total2:\n",
    "    print(\"Player two scored the highest individual score\")\n",
    "    print(\"Player two wins\")\n",
    "else:\n",
    "    print(\"Both the players scored the same scores\")\n",
    "    \n"
   ]
  },
  {
   "cell_type": "code",
   "execution_count": null,
   "id": "fluid-radar",
   "metadata": {},
   "outputs": [],
   "source": []
  }
 ],
 "metadata": {
  "kernelspec": {
   "display_name": "Python 3",
   "language": "python",
   "name": "python3"
  },
  "language_info": {
   "codemirror_mode": {
    "name": "ipython",
    "version": 3
   },
   "file_extension": ".py",
   "mimetype": "text/x-python",
   "name": "python",
   "nbconvert_exporter": "python",
   "pygments_lexer": "ipython3",
   "version": "3.8.8"
  }
 },
 "nbformat": 4,
 "nbformat_minor": 5
}
