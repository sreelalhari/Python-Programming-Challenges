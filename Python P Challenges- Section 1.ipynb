{
 "cells": [
  {
   "cell_type": "markdown",
   "id": "08b7eb07",
   "metadata": {},
   "source": [
    "####                                                                                                                                                                                                     Sreelal H"
   ]
  },
  {
   "cell_type": "markdown",
   "id": "featured-communist",
   "metadata": {},
   "source": [
    "# Programming Challenges for Section 1\n"
   ]
  },
  {
   "cell_type": "markdown",
   "id": "desperate-faculty",
   "metadata": {},
   "source": [
    "### Program 1 - Three in, three out"
   ]
  },
  {
   "cell_type": "code",
   "execution_count": 8,
   "id": "defined-tunisia",
   "metadata": {},
   "outputs": [
    {
     "name": "stdout",
     "output_type": "stream",
     "text": [
      "Please enter your name\n",
      "Lister\n",
      "What is your age?\n",
      "39\n",
      "What is your favourite TV programme?\n",
      "Red Dwarf\n",
      "Lister\n",
      "is\n",
      "39\n",
      "years old and likes\n",
      "Red Dwarf\n"
     ]
    }
   ],
   "source": [
    "print('Please enter your name')\n",
    "n=input()\n",
    "print('What is your age?')\n",
    "a=input()\n",
    "print('What is your favourite TV programme?')\n",
    "p=input()\n",
    "\n",
    "print(n)\n",
    "print('is')\n",
    "print(a)\n",
    "print('years old and likes')\n",
    "print(p)"
   ]
  },
  {
   "cell_type": "markdown",
   "id": "composed-lincoln",
   "metadata": {},
   "source": [
    "### Program 2 - Name swappper"
   ]
  },
  {
   "cell_type": "code",
   "execution_count": 7,
   "id": "threaded-cooking",
   "metadata": {},
   "outputs": [
    {
     "name": "stdout",
     "output_type": "stream",
     "text": [
      "David \n",
      "Tennant\n",
      "Tennant David \n"
     ]
    }
   ],
   "source": [
    "first_name =input()\n",
    "sur_name=input()\n",
    "print(sur_name,first_name)"
   ]
  },
  {
   "cell_type": "markdown",
   "id": "rolled-internship",
   "metadata": {},
   "source": [
    "### Program 3 - Three in, three out (formatted)"
   ]
  },
  {
   "cell_type": "code",
   "execution_count": 9,
   "id": "protecting-breast",
   "metadata": {},
   "outputs": [
    {
     "name": "stdout",
     "output_type": "stream",
     "text": [
      "Please enter your name\n",
      "Lister\n",
      "What is your age?\n",
      "39\n",
      "What is your favourite TV programme?\n",
      "Red Dwarf\n",
      "Lister 39\n",
      "Likes watching Red Dwarf\n"
     ]
    }
   ],
   "source": [
    "print('Please enter your name')\n",
    "n=input()\n",
    "print('What is your age?')\n",
    "a=input()\n",
    "print('What is your favourite TV programme?')\n",
    "p=input()\n",
    "\n",
    "print(n,a)\n",
    "print('Likes watching',p)"
   ]
  },
  {
   "cell_type": "markdown",
   "id": "lyric-filter",
   "metadata": {},
   "source": [
    "### Program 4 - Postcode formatter\n"
   ]
  },
  {
   "cell_type": "code",
   "execution_count": 10,
   "id": "caring-ukraine",
   "metadata": {},
   "outputs": [
    {
     "name": "stdout",
     "output_type": "stream",
     "text": [
      "KY\n",
      "8\n",
      "9\n",
      "HL\n",
      "KY8 9HL\n"
     ]
    }
   ],
   "source": [
    "letter1=input()\n",
    "number1=input()\n",
    "number2=input()\n",
    "letter2=input()\n",
    "print(letter1+number1,number2+letter2)"
   ]
  },
  {
   "cell_type": "markdown",
   "id": "intimate-sequence",
   "metadata": {},
   "source": [
    "### Program 5 - Calculate the area of a rectangle"
   ]
  },
  {
   "cell_type": "code",
   "execution_count": 11,
   "id": "flying-plaintiff",
   "metadata": {},
   "outputs": [
    {
     "name": "stdout",
     "output_type": "stream",
     "text": [
      "Please enter the following values in cm.\n",
      "Please enter the length of the rectangle.\n",
      "12\n",
      "Please enter the width of the rectangle\n",
      "6\n",
      "The area of the rectangle is:\n",
      "72 square centimeters\n"
     ]
    }
   ],
   "source": [
    "print('Please enter the following values in cm.')\n",
    "print('Please enter the length of the rectangle.')\n",
    "length=int(input())\n",
    "print('Please enter the width of the rectangle')\n",
    "width=int(input())\n",
    "print('The area of the rectangle is:')\n",
    "print(length*width, 'square centimeters')"
   ]
  },
  {
   "cell_type": "markdown",
   "id": "increasing-chair",
   "metadata": {},
   "source": [
    "### Program 6- Number generator"
   ]
  },
  {
   "cell_type": "code",
   "execution_count": 12,
   "id": "overall-chest",
   "metadata": {},
   "outputs": [
    {
     "name": "stdout",
     "output_type": "stream",
     "text": [
      "2\n",
      "6\n",
      "26\n"
     ]
    }
   ],
   "source": [
    "number1=input()\n",
    "number2=input()\n",
    "print(number1+number2)"
   ]
  },
  {
   "cell_type": "markdown",
   "id": "conscious-seminar",
   "metadata": {},
   "source": [
    "### Program 7 Postcode formatter(part2)"
   ]
  },
  {
   "cell_type": "code",
   "execution_count": 13,
   "id": "pediatric-thinking",
   "metadata": {},
   "outputs": [
    {
     "name": "stdout",
     "output_type": "stream",
     "text": [
      "ky\n",
      "8\n",
      "9\n",
      "hl\n",
      "KY8 9HL\n"
     ]
    }
   ],
   "source": [
    "letter1=input().upper()\n",
    "number1=input()\n",
    "number2=input()\n",
    "letter2=input().upper()\n",
    "print(letter1+number1,number2+letter2)"
   ]
  },
  {
   "cell_type": "markdown",
   "id": "enabling-decision",
   "metadata": {},
   "source": [
    "### Program 8- Name length"
   ]
  },
  {
   "cell_type": "code",
   "execution_count": 14,
   "id": "dried-insurance",
   "metadata": {},
   "outputs": [
    {
     "name": "stdout",
     "output_type": "stream",
     "text": [
      "Please enter your forename:\n",
      "David\n",
      "Please enter your surname:\n",
      "Stott\n",
      "There are 10 letters in your name.\n"
     ]
    }
   ],
   "source": [
    "print('Please enter your forename:')\n",
    "fn=input()\n",
    "print('Please enter your surname:')\n",
    "sn=input()\n",
    "print('There are', len(fn)+len(sn), 'letters in your name.')"
   ]
  },
  {
   "cell_type": "markdown",
   "id": "freelance-vertical",
   "metadata": {},
   "source": [
    "### Program 9- Counting vowels"
   ]
  },
  {
   "cell_type": "code",
   "execution_count": 17,
   "id": "dental-client",
   "metadata": {},
   "outputs": [
    {
     "name": "stdout",
     "output_type": "stream",
     "text": [
      "Please enter a sentence of your choice\n",
      "Luke, I am your father\n",
      "Your sentence contained the following:\n",
      "a = 2\n",
      "e = 2\n",
      "i = 1\n",
      "o = 1\n",
      "u = 2\n",
      "This is a total of 8 vowels.\n"
     ]
    }
   ],
   "source": [
    "print('Please enter a sentence of your choice')\n",
    "sen=input().lower()\n",
    "a1=sen.count('a')\n",
    "e1=sen.count('e')\n",
    "i1=sen.count('i')\n",
    "o1=sen.count('o')\n",
    "u1=sen.count('u')\n",
    "total=a1+e1+i1+o1+u1\n",
    "print('Your sentence contained the following:')\n",
    "print('a =',a1)\n",
    "print('e =',e1)\n",
    "print('i =',i1)\n",
    "print('o =',o1)\n",
    "print('u =',u1)\n",
    "print('This is a total of',total,'vowels.')"
   ]
  },
  {
   "cell_type": "markdown",
   "id": "weird-mining",
   "metadata": {},
   "source": [
    "### Program 10- Changing gender"
   ]
  },
  {
   "cell_type": "code",
   "execution_count": 22,
   "id": "incoming-spirituality",
   "metadata": {},
   "outputs": [
    {
     "name": "stdout",
     "output_type": "stream",
     "text": [
      "Please enter the male report.\n",
      "He should always ensure that his answers contain as much details as possible.\n",
      "The female report is:\n",
      "She should always ensure that her answers contain as much details as possible.\n"
     ]
    }
   ],
   "source": [
    "print('Please enter the male report.')\n",
    "mr=input().lower()\n",
    "mr1=mr.replace(\"he\",\"she\")\n",
    "mr2=mr1.replace(\"his\",\"her\")\n",
    "print('The female report is:')\n",
    "print(mr2.capitalize())    "
   ]
  },
  {
   "cell_type": "markdown",
   "id": "ancient-inventory",
   "metadata": {},
   "source": [
    "### Program 11- Stock code generator"
   ]
  },
  {
   "cell_type": "code",
   "execution_count": 24,
   "id": "latter-brazilian",
   "metadata": {},
   "outputs": [
    {
     "name": "stdout",
     "output_type": "stream",
     "text": [
      "Please enter your product name.\n",
      "Plazza Beans\n",
      "Please enter the year\n",
      "2016\n",
      "The stock code for Plazza Beans is:\n",
      "Plns26\n"
     ]
    }
   ],
   "source": [
    "print(\"Please enter your product name.\")\n",
    "pn=input()\n",
    "print(\"Please enter the year\")\n",
    "y=input()\n",
    "print(\"The stock code for\",pn,\"is:\")\n",
    "print(pn[0:2]+pn[-2:]+y[0]+y[-1])"
   ]
  },
  {
   "cell_type": "markdown",
   "id": "breeding-funds",
   "metadata": {},
   "source": [
    "### Program 12- Auction fee\n"
   ]
  },
  {
   "cell_type": "code",
   "execution_count": 27,
   "id": "former-locking",
   "metadata": {},
   "outputs": [
    {
     "name": "stdout",
     "output_type": "stream",
     "text": [
      "Please enter your three costs.\n",
      "12.78\n",
      "6.32\n",
      "34.99\n",
      "the total cost is 54.09\n",
      "The auction companies\n",
      "fee is 5.0\n"
     ]
    }
   ],
   "source": [
    "print(\"Please enter your three costs.\")\n",
    "c1=float(input())\n",
    "c2=float(input())\n",
    "c3=float(input())\n",
    "t=c1+c2+c3\n",
    "p=round(t*0.1)\n",
    "print(\"the total cost is\",t)\n",
    "print(\"The auction companies\")\n",
    "print(\"fee is\",float(p))"
   ]
  },
  {
   "cell_type": "markdown",
   "id": "artistic-actress",
   "metadata": {},
   "source": [
    "### Program 13- Calculate the area of a circle"
   ]
  },
  {
   "cell_type": "code",
   "execution_count": 28,
   "id": "chronic-reunion",
   "metadata": {},
   "outputs": [
    {
     "name": "stdout",
     "output_type": "stream",
     "text": [
      "Please enter the following value in cm\n",
      "Please enter the radius of the circle\n",
      "16\n",
      "The area of the circle is:\n",
      "803.84 square centimeters\n"
     ]
    }
   ],
   "source": [
    "print(\"Please enter the following value in cm\")\n",
    "print(\"Please enter the radius of the circle\")\n",
    "r=float(input())\n",
    "area=3.14*r**2\n",
    "print(\"The area of the circle is:\")\n",
    "print(area,\"square centimeters\")"
   ]
  },
  {
   "cell_type": "markdown",
   "id": "formal-accuracy",
   "metadata": {},
   "source": [
    "### Program 14- Prize draw cheat"
   ]
  },
  {
   "cell_type": "code",
   "execution_count": 1,
   "id": "known-refrigerator",
   "metadata": {},
   "outputs": [
    {
     "name": "stdout",
     "output_type": "stream",
     "text": [
      "Please enter the volume of the jar (cm3):\n",
      "2712.96\n",
      "Please enter the voulume of one sweet (cm3):\n",
      "2.12\n",
      "1279 sweets fit into the jar\n"
     ]
    }
   ],
   "source": [
    "print(\"Please enter the volume of the jar (cm3):\")\n",
    "v=float(input())\n",
    "print(\"Please enter the voulume of one sweet (cm3):\")\n",
    "s=float(input())\n",
    "t=int(v/s)\n",
    "print(t,\"sweets fit into the jar\")"
   ]
  },
  {
   "cell_type": "markdown",
   "id": "representative-coral",
   "metadata": {},
   "source": [
    "### Program 15 - Leftover paint"
   ]
  },
  {
   "cell_type": "code",
   "execution_count": 2,
   "id": "experienced-constant",
   "metadata": {},
   "outputs": [
    {
     "name": "stdout",
     "output_type": "stream",
     "text": [
      "enter the area in m2 to be painted\n",
      "178\n",
      "Enter the area (m2) that a single pot covers\n",
      "25\n",
      "You will need 8 pots of paint.\n",
      "You can paint 22.0 m2 with the leftover paint\n"
     ]
    }
   ],
   "source": [
    "import math\n",
    "print(\"enter the area in m2 to be painted\")\n",
    "a=float(input())\n",
    "print(\"Enter the area (m2) that a single pot covers\")\n",
    "p=float(input())\n",
    "n=math.ceil(a/p)\n",
    "j=float((n*p)-a)\n",
    "print(\"You will need\",n, \"pots of paint.\")\n",
    "print(\"You can paint\",j,\"m2 with the leftover paint\")\n"
   ]
  },
  {
   "cell_type": "markdown",
   "id": "alien-productivity",
   "metadata": {},
   "source": [
    "### Program 16- Laying bricks "
   ]
  },
  {
   "cell_type": "code",
   "execution_count": 6,
   "id": "logical-clinton",
   "metadata": {},
   "outputs": [
    {
     "name": "stdout",
     "output_type": "stream",
     "text": [
      "Please enter the length of the brick in cm\n",
      "20\n",
      "Please enter the length of the wall in m:\n",
      "9.89\n",
      "47 bricks build one row of wall\n",
      "This is 2 cm short of the required wall length\n"
     ]
    }
   ],
   "source": [
    "print('Please enter the length of the brick in cm')\n",
    "l=float(input())+1\n",
    "print(\"Please enter the length of the wall in m:\")\n",
    "w=float(input())\n",
    "n=int((w*100)/l)\n",
    "s=int((w*100)-(l*n))\n",
    "print(n,\"bricks build one row of wall\")\n",
    "print(\"This is\",s,\"cm short of the required wall length\")\n"
   ]
  },
  {
   "cell_type": "markdown",
   "id": "hispanic-stephen",
   "metadata": {},
   "source": [
    "### Program 17- Calculating the atomic weight of hydrocarbons"
   ]
  },
  {
   "cell_type": "code",
   "execution_count": 8,
   "id": "immune-harassment",
   "metadata": {},
   "outputs": [
    {
     "name": "stdout",
     "output_type": "stream",
     "text": [
      "Enter the number of carbon atoms.\n",
      "3\n",
      "The atomic mass of C3H8 is 44\n"
     ]
    }
   ],
   "source": [
    "print('Enter the number of carbon atoms.')\n",
    "nc=int(input())\n",
    "nh=(nc*2)+2\n",
    "aw=nc*12+nh\n",
    "print(\"The atomic mass of\",\"C\"+str(nc)+\"H\"+str(nh),\"is\",aw)"
   ]
  },
  {
   "cell_type": "markdown",
   "id": "juvenile-equipment",
   "metadata": {},
   "source": [
    "### Program 18- Standard Scratch "
   ]
  },
  {
   "cell_type": "code",
   "execution_count": 9,
   "id": "spanish-centre",
   "metadata": {},
   "outputs": [
    {
     "name": "stdout",
     "output_type": "stream",
     "text": [
      "How many par 3 holes are there?\n",
      "6\n",
      "How many par 4 holes are there?\n",
      "10\n",
      "how many par 5 holes are there?\n",
      "2\n",
      "what is the difficulty adjustment for the course?\n",
      "-2\n",
      "The standard scratch score for the course is:\n",
      "66\n"
     ]
    }
   ],
   "source": [
    "print(\"How many par 3 holes are there?\")\n",
    "par3=int(input())\n",
    "print(\"How many par 4 holes are there?\")\n",
    "par4=int(input())\n",
    "print(\"how many par 5 holes are there?\")\n",
    "par5=int(input())\n",
    "print(\"what is the difficulty adjustment for the course?\")\n",
    "diff=int(input())\n",
    "tsc=(5*par5)+(4*par4)+(3*par3)+diff\n",
    "print(\"The standard scratch score for the course is:\")\n",
    "print(tsc)"
   ]
  },
  {
   "cell_type": "markdown",
   "id": "competent-coordinate",
   "metadata": {},
   "source": [
    "### Program 19- Cycling speed "
   ]
  },
  {
   "cell_type": "code",
   "execution_count": 11,
   "id": "dirty-prairie",
   "metadata": {},
   "outputs": [
    {
     "name": "stdout",
     "output_type": "stream",
     "text": [
      "What is the circumfarance of your wheel in millimeters?\n",
      "1250\n",
      "How many wheel revolutions have taken place in your journey?\n",
      "8920\n",
      "How many minutes did you cycle for?\n",
      "30\n",
      "You covered 11.15 km.\n",
      "At an average speed of 22.3 kmh.\n"
     ]
    }
   ],
   "source": [
    "print(\"What is the circumfarance of your wheel in millimeters?\")\n",
    "c=float(input())\n",
    "print(\"How many wheel revolutions have taken place in your journey?\")\n",
    "w=float(input())\n",
    "print(\"How many minutes did you cycle for?\")\n",
    "m=float(input())\n",
    "d=(c*w)/(10**6)\n",
    "s=(d)/(m/60)\n",
    "print(\"You covered\",d,\"km.\")\n",
    "print(\"At an average speed of\",s,\"kmh.\")"
   ]
  },
  {
   "cell_type": "code",
   "execution_count": null,
   "id": "dad34904",
   "metadata": {},
   "outputs": [],
   "source": []
  }
 ],
 "metadata": {
  "kernelspec": {
   "display_name": "Python 3",
   "language": "python",
   "name": "python3"
  },
  "language_info": {
   "codemirror_mode": {
    "name": "ipython",
    "version": 3
   },
   "file_extension": ".py",
   "mimetype": "text/x-python",
   "name": "python",
   "nbconvert_exporter": "python",
   "pygments_lexer": "ipython3",
   "version": "3.8.8"
  }
 },
 "nbformat": 4,
 "nbformat_minor": 5
}
