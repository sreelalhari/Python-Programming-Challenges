{
 "cells": [
  {
   "cell_type": "markdown",
   "id": "89af27de",
   "metadata": {},
   "source": [
    "#### Sreelal H "
   ]
  },
  {
   "cell_type": "markdown",
   "id": "constitutional-decrease",
   "metadata": {},
   "source": [
    "#  Programming challenges for section 4"
   ]
  },
  {
   "cell_type": "markdown",
   "id": "pressing-restoration",
   "metadata": {},
   "source": [
    "### Program 46- for sale "
   ]
  },
  {
   "cell_type": "code",
   "execution_count": 36,
   "id": "historical-index",
   "metadata": {},
   "outputs": [
    {
     "name": "stdout",
     "output_type": "stream",
     "text": [
      "Mountain bike\n",
      "Ski jacket\n",
      "Electric Guitar\n",
      "Ps3- 500gb\n",
      "Badminton Racquet\n"
     ]
    }
   ],
   "source": [
    "items=[\"Mountain bike\", \"Ski jacket\", \"Electric Guitar\", \"Ps3- 500gb\",\"Badminton Racquet\"]\n",
    "for i in range(5):\n",
    "    print(items[i])"
   ]
  },
  {
   "cell_type": "markdown",
   "id": "considered-powder",
   "metadata": {},
   "source": [
    "### Program 47 - For sale part2 "
   ]
  },
  {
   "cell_type": "code",
   "execution_count": 38,
   "id": "juvenile-insurance",
   "metadata": {},
   "outputs": [
    {
     "name": "stdout",
     "output_type": "stream",
     "text": [
      "Mountain bike - 200\n",
      "Ski jacket - 67\n",
      "Electric Guitar - 330\n",
      "Ps3- 500gb - 120\n",
      "Badminton Racquet - 15\n"
     ]
    }
   ],
   "source": [
    "items=[\"Mountain bike\", \"Ski jacket\", \"Electric Guitar\", \"Ps3- 500gb\",\"Badminton Racquet\"]\n",
    "prices=[200,67,330,120,15]\n",
    "for i in range(5):\n",
    "    print(items[i],\"-\",prices[i])"
   ]
  },
  {
   "cell_type": "markdown",
   "id": "assured-newton",
   "metadata": {},
   "source": [
    "### Program 48- Cricket over (part 2) "
   ]
  },
  {
   "cell_type": "code",
   "execution_count": 39,
   "id": "domestic-guess",
   "metadata": {},
   "outputs": [
    {
     "name": "stdout",
     "output_type": "stream",
     "text": [
      "Please enter the score for each ball\n",
      "0\n",
      "2\n",
      "0\n",
      "0\n",
      "4\n",
      "6\n",
      "This over's score was: 12\n",
      "with each ball scoring\n",
      "0\n",
      "2\n",
      "0\n",
      "0\n",
      "4\n",
      "6\n"
     ]
    }
   ],
   "source": [
    "print(\"Please enter the score for each ball\")\n",
    "total=0\n",
    "scores=[]\n",
    "for i in range(6):\n",
    "    score=int(input())\n",
    "    scores.append(score)\n",
    "    total=total + score\n",
    "print(\"This over's score was:\", total)\n",
    "print(\"with each ball scoring\")\n",
    "for p in range(6):\n",
    "    print(scores[p])"
   ]
  },
  {
   "cell_type": "markdown",
   "id": "filled-suspect",
   "metadata": {},
   "source": [
    "###  Program 49- Dance group"
   ]
  },
  {
   "cell_type": "code",
   "execution_count": 43,
   "id": "round-staff",
   "metadata": {},
   "outputs": [
    {
     "name": "stdout",
     "output_type": "stream",
     "text": [
      "Please enter a name:\n",
      "Jean Gray\n",
      "Please enter Jean Gray 's age\n",
      "13\n",
      "Please enter a name:\n",
      "Max Eisenhardt\n",
      "Please enter Max Eisenhardt 's age\n",
      "24\n",
      "Please enter a name:\n",
      "James Howlett\n",
      "Please enter James Howlett 's age\n",
      "15\n",
      "Please enter a name:\n",
      "Alesky Nowak\n",
      "Please enter Alesky Nowak 's age\n",
      "9\n",
      "Names and competition lists\n",
      "Jean Gray Teen\n",
      "Max Eisenhardt senior\n",
      "James Howlett Teen\n",
      "Alesky Nowak Junior\n"
     ]
    }
   ],
   "source": [
    "names=[]\n",
    "ages=[]\n",
    "for i in range(4):\n",
    "    print(\"Please enter a name:\")\n",
    "    name=input()\n",
    "    names.append(name)\n",
    "    print(\"Please enter\",name,\"'s age\")\n",
    "    age=int(input())\n",
    "    ages.append(age)\n",
    "print(\"Names and competition lists\")\n",
    "for p in range(4):\n",
    "    if ages[p]<12:\n",
    "        print(names[p],\"Junior\")\n",
    "    elif ages[p]>=12 and ages[p]<18:\n",
    "        print(names[p],\"Teen\")\n",
    "    elif ages[p]>18:\n",
    "        print(names[p],\"senior\")\n",
    "\n",
    "\n",
    "    "
   ]
  },
  {
   "cell_type": "markdown",
   "id": "varying-overall",
   "metadata": {},
   "source": [
    "### Program 50- Horse hands"
   ]
  },
  {
   "cell_type": "code",
   "execution_count": 16,
   "id": "fluid-radar",
   "metadata": {},
   "outputs": [
    {
     "name": "stdout",
     "output_type": "stream",
     "text": [
      "Please enter the details of your horse.\n",
      "Maximum height:\n",
      "16\n",
      "Maximum age:\n",
      "15\n",
      "Suitable horses are:\n",
      "Black Beauty 14 years 15 hands\n",
      "Francine 8 years 14 hands\n",
      "Langrish 15 years 14 hands\n"
     ]
    }
   ],
   "source": [
    "horse=[\"Black Beauty\", \"Francine\", \"Langrish\"]\n",
    "ages=[14,8,15]\n",
    "heights=[15,14,14]\n",
    "print(\"Please enter the details of your horse.\")\n",
    "print(\"Maximum height:\")\n",
    "h=int(input())\n",
    "print(\"Maximum age:\")\n",
    "a=int(input())\n",
    "print(\"Suitable horses are:\")\n",
    "for i in range(3):\n",
    "    age=ages[i]\n",
    "    height=heights[i]\n",
    "    if age<=a and height<=h:\n",
    "        print(horse[i],age,\"years\",height,\"hands\")\n",
    "    else:\n",
    "        print(\"Unavailable\")\n",
    "    "
   ]
  },
  {
   "cell_type": "markdown",
   "id": "eeaf6d06",
   "metadata": {},
   "source": [
    "### Program 51 House size"
   ]
  },
  {
   "cell_type": "code",
   "execution_count": 39,
   "id": "3b29d1d5",
   "metadata": {},
   "outputs": [
    {
     "name": "stdout",
     "output_type": "stream",
     "text": [
      "house floor area calculator.\n",
      "Please enter the number of rooms:\n",
      "3\n",
      "Please enter the name of room 1: Lounge\n",
      "Please enter the length of room 1: 3.56\n",
      "Please enter the width of room 1: 4.7\n",
      "Please enter the name of room 2: Kitchen\n",
      "Please enter the length of room 2: 2.26\n",
      "Please enter the width of room 2: 3.69\n",
      "Please enter the name of room 3: Bedroom\n",
      "Please enter the length of room 3: 4.5\n",
      "Please enter the width of room 3: 4.7\n",
      "House details:\n",
      "room - Lounge\n",
      "16.7 metres squared\n",
      "room - Kitchen\n",
      "8.3 metres squared\n",
      "room - Bedroom\n",
      "21.2 metres squared\n",
      "Total area is :\n",
      "46.2  meteres squared\n"
     ]
    }
   ],
   "source": [
    "rooms=[]\n",
    "length=[]\n",
    "width=[]\n",
    "area=[]\n",
    "print(\"house floor area calculator.\")\n",
    "print(\"Please enter the number of rooms:\")\n",
    "n=int(input())\n",
    "for i in range(n):\n",
    "    name=input('Please enter the name of room '+ str(i+1) + ': ')\n",
    "    rooms.append(name)\n",
    "    l=float(input('Please enter the length of room '+str(i+1)+': '))\n",
    "    length.append(l)\n",
    "    w=float(input('Please enter the width of room '+str(i+1)+': '))\n",
    "    width.append(w)\n",
    "    a=round(length[i]*width[i],1)\n",
    "    area.append(a)\n",
    "print(\"House details:\")\n",
    "total=0\n",
    "for j in range(n):\n",
    "    print(\"room -\", rooms[j])\n",
    "    print(area[j], \"metres squared\")\n",
    "    total=total+area[j]\n",
    "print(\"Total area is :\")\n",
    "print(total,\" meteres squared\")\n",
    "\n",
    "\n"
   ]
  },
  {
   "cell_type": "markdown",
   "id": "2aad9e6b",
   "metadata": {},
   "source": [
    "### Program   - Who's going to the party?"
   ]
  },
  {
   "cell_type": "code",
   "execution_count": 42,
   "id": "37646013",
   "metadata": {},
   "outputs": [
    {
     "name": "stdout",
     "output_type": "stream",
     "text": [
      "Who is going?\n",
      "Melissa ?\n",
      "Y\n",
      "Evelyn ?\n",
      "Y\n",
      "Emmy ?\n",
      "N\n",
      "Karen ?\n",
      "N\n",
      "Norma ?\n",
      "Y\n",
      "Dorek ?\n",
      "Y\n",
      "Agnes ?\n",
      "N\n",
      "Billy ?\n",
      "Y\n",
      "Gawet ?\n",
      "Y\n",
      "Arthur ?\n",
      "N\n",
      "party attendance list:\n",
      "Melissa\n",
      "Evelyn\n",
      "Norma\n",
      "Dorek\n",
      "Billy\n",
      "Gawet\n"
     ]
    }
   ],
   "source": [
    "friends=[\"Melissa\",\"Evelyn\",\"Emmy\",\"Karen\",\"Norma\",\"Dorek\",\"Agnes\",\"Billy\",\"Gawet\",\"Arthur\"]\n",
    "going=[]\n",
    "print(\"Who is going?\")\n",
    "for i in friends:\n",
    "    print(i,\"?\")\n",
    "    Ans=input()\n",
    "    if Ans==\"Y\":\n",
    "        going.append(i)\n",
    "    elif Ans==\"N\":\n",
    "        continue\n",
    "    else:\n",
    "        print(\"Type Y or N\")\n",
    "        continue\n",
    "print(\"party attendance list:\")\n",
    "for i in range(len(going)):\n",
    "    print(going[i])"
   ]
  },
  {
   "cell_type": "markdown",
   "id": "e818e614",
   "metadata": {},
   "source": [
    "### Program 52- Bowling club day trip"
   ]
  },
  {
   "cell_type": "code",
   "execution_count": 2,
   "id": "f8b3927a",
   "metadata": {},
   "outputs": [
    {
     "name": "stdout",
     "output_type": "stream",
     "text": [
      "How many members have requested a seat\n",
      "5\n",
      "please enter your name\n",
      "Hubab\n",
      "Which row would you like to sit in\n",
      "2\n",
      "Which seat number would you like to sit in\n",
      "3\n",
      "Thankyou your name has been added\n",
      "please enter your name\n",
      "Jessica\n",
      "Which row would you like to sit in\n",
      "3\n",
      "Which seat number would you like to sit in\n",
      "1\n",
      "Thankyou your name has been added\n",
      "please enter your name\n",
      "Denzell\n",
      "Which row would you like to sit in\n",
      "2\n",
      "Which seat number would you like to sit in\n",
      "1\n",
      "Thankyou your name has been added\n",
      "please enter your name\n",
      "Talisha\n",
      "Which row would you like to sit in\n",
      "4\n",
      "Which seat number would you like to sit in\n",
      "3\n",
      "Thankyou your name has been added\n",
      "please enter your name\n",
      "Andrew\n",
      "Which row would you like to sit in\n",
      "5\n",
      "Which seat number would you like to sit in\n",
      "4\n",
      "Thankyou your name has been added\n",
      "Bus seats have been booked as follows\n",
      "         0      1        2       3\n",
      "0    Empty  Empty    Empty   Empty\n",
      "1  Denzell  Empty    Hubab   Empty\n",
      "2  Jessica  Empty    Empty   Empty\n",
      "3    Empty  Empty  Talisha   Empty\n",
      "4    Empty  Empty    Empty  Andrew\n"
     ]
    }
   ],
   "source": [
    "import pandas as pd\n",
    "seats=[[\"Empty\",\"Empty\",\"Empty\",\"Empty\"],\n",
    "       [\"Empty\",\"Empty\",\"Empty\",\"Empty\"],\n",
    "       [\"Empty\",\"Empty\",\"Empty\",\"Empty\"],\n",
    "       [\"Empty\",\"Empty\",\"Empty\",\"Empty\"],\n",
    "       [\"Empty\",\"Empty\",\"Empty\",\"Empty\"]]\n",
    "print(\"How many members have requested a seat\")\n",
    "n=int(input())\n",
    "for i in range(n):\n",
    "    print(\"please enter your name\")\n",
    "    name=input()\n",
    "    print(\"Which row would you like to sit in\")\n",
    "    row=int(input())-1\n",
    "    print(\"Which seat number would you like to sit in\")\n",
    "    seat=int(input())-1\n",
    "    seats[row][seat]=name\n",
    "    print(\"Thankyou your name has been added\")\n",
    "print(\"Bus seats have been booked as follows\")\n",
    "df_seats=pd.DataFrame(seats)\n",
    "print(df_seats)"
   ]
  },
  {
   "cell_type": "markdown",
   "id": "e31a4208",
   "metadata": {},
   "source": [
    "### Program 54- Counting weeds\n"
   ]
  },
  {
   "cell_type": "code",
   "execution_count": 1,
   "id": "4954b12d",
   "metadata": {},
   "outputs": [
    {
     "name": "stdout",
     "output_type": "stream",
     "text": [
      "Please enter the number of weeds counted at1,1: 3\n",
      "Please enter the number of weeds counted at1,2: 0\n",
      "Please enter the number of weeds counted at1,3: 2\n",
      "Please enter the number of weeds counted at1,4: 2\n",
      "Please enter the number of weeds counted at1,5: 0\n",
      "Please enter the number of weeds counted at2,1: 0\n",
      "Please enter the number of weeds counted at2,2: 0\n",
      "Please enter the number of weeds counted at2,3: 0\n",
      "Please enter the number of weeds counted at2,4: 3\n",
      "Please enter the number of weeds counted at2,5: 2\n",
      "Please enter the number of weeds counted at3,1: 0\n",
      "Please enter the number of weeds counted at3,2: 10\n",
      "Please enter the number of weeds counted at3,3: 6\n",
      "Please enter the number of weeds counted at3,4: 5\n",
      "Please enter the number of weeds counted at3,5: 0\n",
      "Please enter the number of weeds counted at4,1: 1\n",
      "Please enter the number of weeds counted at4,2: 1\n",
      "Please enter the number of weeds counted at4,3: 2\n",
      "Please enter the number of weeds counted at4,4: 2\n",
      "Please enter the number of weeds counted at4,5: 7\n",
      "Please enter the number of weeds counted at5,1: 0\n",
      "Please enter the number of weeds counted at5,2: 0\n",
      "Please enter the number of weeds counted at5,3: 5\n",
      "Please enter the number of weeds counted at5,4: 3\n",
      "Please enter the number of weeds counted at5,5: 2\n",
      "The results are \n",
      "[['3', '0', '2', '2', '0'], ['0', '0', '0', '3', '2'], ['0', '10', '6', '5', '0'], ['1', '1', '2', '2', '7'], ['0', '0', '5', '3', '2']]\n",
      "56\n"
     ]
    }
   ],
   "source": [
    "#doubt #cleared\n",
    "weeds=[[0]*5 for i in range(5)]\n",
    "total=0\n",
    "for j in range(5):\n",
    "    for k in range(5):\n",
    "        weed=input(\"Please enter the number of weeds counted at\"+str(j+1)+\",\"+str(k+1)+\": \")\n",
    "        weeds[j][k]=weed\n",
    "        total=total+int(weed)\n",
    "print(\"The results are \")\n",
    "print(weeds)\n",
    "print(total)"
   ]
  },
  {
   "cell_type": "markdown",
   "id": "e1d78638",
   "metadata": {},
   "source": [
    "### Program 55 - Cricket over (part3) "
   ]
  },
  {
   "cell_type": "code",
   "execution_count": 2,
   "id": "bb5f97ad",
   "metadata": {},
   "outputs": [
    {
     "name": "stdout",
     "output_type": "stream",
     "text": [
      "Please enter the score for over 1 for team 1\n",
      "1\n",
      "0\n",
      "0\n",
      "0\n",
      "0\n",
      "0\n",
      "Please enter the score for over 2 for team 1\n",
      "0\n",
      "0\n",
      "0\n",
      "0\n",
      "0\n",
      "0\n",
      "Please enter the score for over 3 for team 1\n",
      "0\n",
      "0\n",
      "0\n",
      "0\n",
      "0\n",
      "0\n",
      "Please enter the score for over 1 for team 2\n",
      "0\n",
      "5\n",
      "5\n",
      "0\n",
      "0\n",
      "0\n",
      "Please enter the score for over 2 for team 2\n",
      "0\n",
      "0\n",
      "0\n",
      "0\n",
      "0\n",
      "0\n",
      "Please enter the score for over 3 for team 2\n",
      "0\n",
      "0\n",
      "0\n",
      "0\n",
      "0\n",
      "0\n",
      "score for team 1 is:\n",
      "1\n",
      "score for team 2 is:\n",
      "10\n",
      "Team 2 won the match.\n",
      "Do you wish to continue the result of another game?\n",
      "N\n"
     ]
    }
   ],
   "source": [
    "#Doubt #Cleared\n",
    "while True:    \n",
    "    entire_total=[]\n",
    "    for j in range(2):\n",
    "        team_total=0\n",
    "        for k in range(3):\n",
    "            print(\"Please enter the score for over \" + str(k+1)+ \" for team \"+str(j+1))\n",
    "            total=0\n",
    "            for i in range(6):\n",
    "                score=int(input())\n",
    "                total=total + score                \n",
    "            team_total=team_total+total \n",
    "        entire_total.append(team_total)\n",
    "    for j in range(2):\n",
    "        print(\"score for team\",j+1,\"is:\")\n",
    "        print(entire_total[j])\n",
    "    if entire_total[0]>entire_total[1]:\n",
    "        print(\"Team 1 won the match.\")\n",
    "    elif entire_total[0]<entire_total[1]:\n",
    "        print(\"Team 2 won the match.\")\n",
    "    else:\n",
    "        print(\"Course are tied\")\n",
    "    print(\"Do you wish to continue the result of another game?\")\n",
    "    again=input()\n",
    "    if again==\"Y\":\n",
    "        continue\n",
    "    if again==\"N\":\n",
    "        break"
   ]
  },
  {
   "cell_type": "code",
   "execution_count": null,
   "id": "7015dd34",
   "metadata": {},
   "outputs": [],
   "source": []
  }
 ],
 "metadata": {
  "kernelspec": {
   "display_name": "Python 3",
   "language": "python",
   "name": "python3"
  },
  "language_info": {
   "codemirror_mode": {
    "name": "ipython",
    "version": 3
   },
   "file_extension": ".py",
   "mimetype": "text/x-python",
   "name": "python",
   "nbconvert_exporter": "python",
   "pygments_lexer": "ipython3",
   "version": "3.8.8"
  }
 },
 "nbformat": 4,
 "nbformat_minor": 5
}
